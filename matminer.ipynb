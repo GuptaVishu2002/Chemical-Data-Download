{
 "cells": [
  {
   "cell_type": "markdown",
   "metadata": {},
   "source": [
    "# Materials Project"
   ]
  },
  {
   "cell_type": "markdown",
   "metadata": {},
   "source": [
    "## Ask about the api_key from the senior"
   ]
  },
  {
   "cell_type": "code",
   "execution_count": 2,
   "metadata": {},
   "outputs": [],
   "source": [
    "from matminer.data_retrieval.retrieve_MP import MPDataRetrieval"
   ]
  },
  {
   "cell_type": "code",
   "execution_count": 3,
   "metadata": {},
   "outputs": [],
   "source": [
    "mpdr = MPDataRetrieval(api_key=\"tRmub3WlBCEHeGnN\")"
   ]
  },
  {
   "cell_type": "code",
   "execution_count": null,
   "metadata": {},
   "outputs": [
    {
     "data": {
      "application/vnd.jupyter.widget-view+json": {
       "model_id": "204fd6d163b9413987f1e2eab75e5dba",
       "version_major": 2,
       "version_minor": 0
      },
      "text/plain": [
       "HBox(children=(IntProgress(value=0, max=124515), HTML(value='')))"
      ]
     },
     "metadata": {},
     "output_type": "display_data"
    }
   ],
   "source": [
    "df = mpdr.get_dataframe(criteria={\"nelements\": {\"$gte\": 1}}, \n",
    "                        properties=['full_formula','energy','energy_per_atom',\n",
    "                                    'volume','density','crystal_system','nsites','elements','nelements',\n",
    "                                    'spacegroup','initial_structure','final_structure','e_above_hull','formation_energy_per_atom','e_above_hull',\n",
    "                                   'elasticity','piezo','diel','band_gap', 'total_magnetization','cif',\n",
    "                                   'is_hubbard','hubbards','bandstructure','bandstructure_uniform','dos'])\n",
    "print(\"There are {} entries on MP with 1 element\".format(df['full_formula'].count()))"
   ]
  },
  {
   "cell_type": "code",
   "execution_count": 35,
   "metadata": {},
   "outputs": [
    {
     "data": {
      "text/html": [
       "<div>\n",
       "<style scoped>\n",
       "    .dataframe tbody tr th:only-of-type {\n",
       "        vertical-align: middle;\n",
       "    }\n",
       "\n",
       "    .dataframe tbody tr th {\n",
       "        vertical-align: top;\n",
       "    }\n",
       "\n",
       "    .dataframe thead th {\n",
       "        text-align: right;\n",
       "    }\n",
       "</style>\n",
       "<table border=\"1\" class=\"dataframe\">\n",
       "  <thead>\n",
       "    <tr style=\"text-align: right;\">\n",
       "      <th></th>\n",
       "      <th>full_formula</th>\n",
       "      <th>energy</th>\n",
       "      <th>energy_per_atom</th>\n",
       "      <th>volume</th>\n",
       "      <th>density</th>\n",
       "      <th>crystal_system</th>\n",
       "      <th>formation_energy_per_atom</th>\n",
       "      <th>e_above_hull</th>\n",
       "      <th>elasticity</th>\n",
       "      <th>band_gap</th>\n",
       "      <th>total_magnetization</th>\n",
       "      <th>cif</th>\n",
       "    </tr>\n",
       "    <tr>\n",
       "      <th>material_id</th>\n",
       "      <th></th>\n",
       "      <th></th>\n",
       "      <th></th>\n",
       "      <th></th>\n",
       "      <th></th>\n",
       "      <th></th>\n",
       "      <th></th>\n",
       "      <th></th>\n",
       "      <th></th>\n",
       "      <th></th>\n",
       "      <th></th>\n",
       "      <th></th>\n",
       "    </tr>\n",
       "  </thead>\n",
       "  <tbody>\n",
       "    <tr>\n",
       "      <th>mp-1003771</th>\n",
       "      <td>Mg2Mn12O24</td>\n",
       "      <td>-270.307341</td>\n",
       "      <td>-7.113351</td>\n",
       "      <td>415.618623</td>\n",
       "      <td>4.362324</td>\n",
       "      <td>monoclinic</td>\n",
       "      <td>-1.997998</td>\n",
       "      <td>0.025281</td>\n",
       "      <td>None</td>\n",
       "      <td>0.3416</td>\n",
       "      <td>20.000000</td>\n",
       "      <td># generated using pymatgen\\ndata_MgMn6O12\\n_sy...</td>\n",
       "    </tr>\n",
       "    <tr>\n",
       "      <th>mp-1007923</th>\n",
       "      <td>Cr1Ni3</td>\n",
       "      <td>-27.036890</td>\n",
       "      <td>-6.759222</td>\n",
       "      <td>43.823247</td>\n",
       "      <td>8.642208</td>\n",
       "      <td>tetragonal</td>\n",
       "      <td>-0.016354</td>\n",
       "      <td>0.000802</td>\n",
       "      <td>{'G_Reuss': 97.0, 'G_VRH': 105.0, 'G_Voigt': 1...</td>\n",
       "      <td>0.0000</td>\n",
       "      <td>1.412775</td>\n",
       "      <td># generated using pymatgen\\ndata_CrNi3\\n_symme...</td>\n",
       "    </tr>\n",
       "    <tr>\n",
       "      <th>mp-1008754</th>\n",
       "      <td>Tb1Hg2</td>\n",
       "      <td>-5.443130</td>\n",
       "      <td>-1.814377</td>\n",
       "      <td>85.034922</td>\n",
       "      <td>10.937586</td>\n",
       "      <td>trigonal</td>\n",
       "      <td>-0.069428</td>\n",
       "      <td>0.329909</td>\n",
       "      <td>None</td>\n",
       "      <td>0.0000</td>\n",
       "      <td>0.000001</td>\n",
       "      <td># generated using pymatgen\\ndata_TbHg2\\n_symme...</td>\n",
       "    </tr>\n",
       "    <tr>\n",
       "      <th>mp-1008809</th>\n",
       "      <td>Pt1N2</td>\n",
       "      <td>-19.962308</td>\n",
       "      <td>-6.654103</td>\n",
       "      <td>35.065606</td>\n",
       "      <td>10.564824</td>\n",
       "      <td>hexagonal</td>\n",
       "      <td>0.666488</td>\n",
       "      <td>0.666488</td>\n",
       "      <td>{'G_Reuss': -51.0, 'G_VRH': 24.0, 'G_Voigt': 9...</td>\n",
       "      <td>0.0000</td>\n",
       "      <td>0.000000</td>\n",
       "      <td># generated using pymatgen\\ndata_PtN2\\n_symmet...</td>\n",
       "    </tr>\n",
       "    <tr>\n",
       "      <th>mp-1013878</th>\n",
       "      <td>Li2V6P6O26</td>\n",
       "      <td>-298.011667</td>\n",
       "      <td>-7.450292</td>\n",
       "      <td>499.065064</td>\n",
       "      <td>3.065634</td>\n",
       "      <td>monoclinic</td>\n",
       "      <td>-2.686673</td>\n",
       "      <td>0.013965</td>\n",
       "      <td>None</td>\n",
       "      <td>1.2858</td>\n",
       "      <td>5.000000</td>\n",
       "      <td># generated using pymatgen\\ndata_LiV3P3O13\\n_s...</td>\n",
       "    </tr>\n",
       "  </tbody>\n",
       "</table>\n",
       "</div>"
      ],
      "text/plain": [
       "            full_formula      energy  energy_per_atom      volume    density  \\\n",
       "material_id                                                                    \n",
       "mp-1003771    Mg2Mn12O24 -270.307341        -7.113351  415.618623   4.362324   \n",
       "mp-1007923        Cr1Ni3  -27.036890        -6.759222   43.823247   8.642208   \n",
       "mp-1008754        Tb1Hg2   -5.443130        -1.814377   85.034922  10.937586   \n",
       "mp-1008809         Pt1N2  -19.962308        -6.654103   35.065606  10.564824   \n",
       "mp-1013878    Li2V6P6O26 -298.011667        -7.450292  499.065064   3.065634   \n",
       "\n",
       "            crystal_system  formation_energy_per_atom  e_above_hull  \\\n",
       "material_id                                                           \n",
       "mp-1003771      monoclinic                  -1.997998      0.025281   \n",
       "mp-1007923      tetragonal                  -0.016354      0.000802   \n",
       "mp-1008754        trigonal                  -0.069428      0.329909   \n",
       "mp-1008809       hexagonal                   0.666488      0.666488   \n",
       "mp-1013878      monoclinic                  -2.686673      0.013965   \n",
       "\n",
       "                                                    elasticity  band_gap  \\\n",
       "material_id                                                                \n",
       "mp-1003771                                                None    0.3416   \n",
       "mp-1007923   {'G_Reuss': 97.0, 'G_VRH': 105.0, 'G_Voigt': 1...    0.0000   \n",
       "mp-1008754                                                None    0.0000   \n",
       "mp-1008809   {'G_Reuss': -51.0, 'G_VRH': 24.0, 'G_Voigt': 9...    0.0000   \n",
       "mp-1013878                                                None    1.2858   \n",
       "\n",
       "             total_magnetization  \\\n",
       "material_id                        \n",
       "mp-1003771             20.000000   \n",
       "mp-1007923              1.412775   \n",
       "mp-1008754              0.000001   \n",
       "mp-1008809              0.000000   \n",
       "mp-1013878              5.000000   \n",
       "\n",
       "                                                           cif  \n",
       "material_id                                                     \n",
       "mp-1003771   # generated using pymatgen\\ndata_MgMn6O12\\n_sy...  \n",
       "mp-1007923   # generated using pymatgen\\ndata_CrNi3\\n_symme...  \n",
       "mp-1008754   # generated using pymatgen\\ndata_TbHg2\\n_symme...  \n",
       "mp-1008809   # generated using pymatgen\\ndata_PtN2\\n_symmet...  \n",
       "mp-1013878   # generated using pymatgen\\ndata_LiV3P3O13\\n_s...  "
      ]
     },
     "execution_count": 35,
     "metadata": {},
     "output_type": "execute_result"
    }
   ],
   "source": [
    "df.head()"
   ]
  },
  {
   "cell_type": "code",
   "execution_count": 6,
   "metadata": {},
   "outputs": [],
   "source": [
    "import os\n",
    "from pandas import DataFrame"
   ]
  },
  {
   "cell_type": "code",
   "execution_count": 12,
   "metadata": {},
   "outputs": [],
   "source": [
    "export_csv = df.to_csv (r'/home/vgf3011/vishu/matminer/dataset/MP_dataset_all.csv', index = None, header=True)"
   ]
  },
  {
   "cell_type": "markdown",
   "metadata": {},
   "source": [
    "# JARVIS"
   ]
  },
  {
   "cell_type": "code",
   "execution_count": 14,
   "metadata": {},
   "outputs": [],
   "source": [
    "%matplotlib inline\n",
    "\n",
    "import itertools\n",
    "\n",
    "import numpy as np\n",
    "import pandas as pd\n",
    "from matplotlib import pyplot as plt\n",
    "from matplotlib.colors import LogNorm\n",
    "from matminer.data_retrieval.retrieve_MDF import MDFDataRetrieval"
   ]
  },
  {
   "cell_type": "code",
   "execution_count": 15,
   "metadata": {},
   "outputs": [],
   "source": [
    "mdf = MDFDataRetrieval(anonymous=True)"
   ]
  },
  {
   "cell_type": "code",
   "execution_count": 16,
   "metadata": {},
   "outputs": [
    {
     "name": "stderr",
     "output_type": "stream",
     "text": [
      "100%|██████████| 26559/26559 [00:32<00:00, 868.41it/s]\n"
     ]
    },
    {
     "name": "stdout",
     "output_type": "stream",
     "text": [
      "Found 26559 compounds\n"
     ]
    }
   ],
   "source": [
    "query_string = 'mdf.source_name:jarvis AND mdf.resource_type:record'\n",
    "data = mdf.get_data(query_string, unwind_arrays=False)\n",
    "print('Found {} compounds'.format(len(data)))"
   ]
  },
  {
   "cell_type": "code",
   "execution_count": 17,
   "metadata": {},
   "outputs": [
    {
     "data": {
      "text/html": [
       "<div>\n",
       "<style scoped>\n",
       "    .dataframe tbody tr th:only-of-type {\n",
       "        vertical-align: middle;\n",
       "    }\n",
       "\n",
       "    .dataframe tbody tr th {\n",
       "        vertical-align: top;\n",
       "    }\n",
       "\n",
       "    .dataframe thead th {\n",
       "        text-align: right;\n",
       "    }\n",
       "</style>\n",
       "<table border=\"1\" class=\"dataframe\">\n",
       "  <thead>\n",
       "    <tr style=\"text-align: right;\">\n",
       "      <th></th>\n",
       "      <th>crystal_structure.number_of_atoms</th>\n",
       "      <th>crystal_structure.space_group_number</th>\n",
       "      <th>dft.converged</th>\n",
       "      <th>dft.cutoff_energy</th>\n",
       "      <th>files</th>\n",
       "      <th>jarvis.bandgap.mbj</th>\n",
       "      <th>jarvis.bandgap.optb88vdw</th>\n",
       "      <th>jarvis.crossreference.materials_project</th>\n",
       "      <th>jarvis.dimensionality</th>\n",
       "      <th>jarvis.elastic_moduli.bulk</th>\n",
       "      <th>...</th>\n",
       "      <th>material.elements</th>\n",
       "      <th>mdf.ingest_date</th>\n",
       "      <th>mdf.resource_type</th>\n",
       "      <th>mdf.scroll_id</th>\n",
       "      <th>mdf.source_id</th>\n",
       "      <th>mdf.source_name</th>\n",
       "      <th>mdf.version</th>\n",
       "      <th>origin.creator</th>\n",
       "      <th>origin.name</th>\n",
       "      <th>origin.type</th>\n",
       "    </tr>\n",
       "  </thead>\n",
       "  <tbody>\n",
       "    <tr>\n",
       "      <th>0</th>\n",
       "      <td>17</td>\n",
       "      <td>87</td>\n",
       "      <td>True</td>\n",
       "      <td>1250.0</td>\n",
       "      <td>[{'data_type': 'ASCII text, with very long lin...</td>\n",
       "      <td>NaN</td>\n",
       "      <td>1.6537</td>\n",
       "      <td>mp-558988</td>\n",
       "      <td>3d</td>\n",
       "      <td>NaN</td>\n",
       "      <td>...</td>\n",
       "      <td>[F, N, Ni]</td>\n",
       "      <td>2018-11-28T16:20:48.748879Z</td>\n",
       "      <td>record</td>\n",
       "      <td>3554</td>\n",
       "      <td>jarvis_v1.1</td>\n",
       "      <td>jarvis</td>\n",
       "      <td>1</td>\n",
       "      <td>University of Vienna</td>\n",
       "      <td>VASP</td>\n",
       "      <td>computation</td>\n",
       "    </tr>\n",
       "    <tr>\n",
       "      <th>1</th>\n",
       "      <td>19</td>\n",
       "      <td>82</td>\n",
       "      <td>True</td>\n",
       "      <td>1300.0</td>\n",
       "      <td>[{'data_type': 'ASCII text, with very long lin...</td>\n",
       "      <td>8.4333</td>\n",
       "      <td>5.9415</td>\n",
       "      <td>mp-558990</td>\n",
       "      <td>3d</td>\n",
       "      <td>30.933</td>\n",
       "      <td>...</td>\n",
       "      <td>[K, O, P, Sr]</td>\n",
       "      <td>2018-11-28T16:20:48.748879Z</td>\n",
       "      <td>record</td>\n",
       "      <td>3555</td>\n",
       "      <td>jarvis_v1.1</td>\n",
       "      <td>jarvis</td>\n",
       "      <td>1</td>\n",
       "      <td>University of Vienna</td>\n",
       "      <td>VASP</td>\n",
       "      <td>computation</td>\n",
       "    </tr>\n",
       "  </tbody>\n",
       "</table>\n",
       "<p>2 rows × 26 columns</p>\n",
       "</div>"
      ],
      "text/plain": [
       "   crystal_structure.number_of_atoms  crystal_structure.space_group_number  \\\n",
       "0                                 17                                    87   \n",
       "1                                 19                                    82   \n",
       "\n",
       "   dft.converged  dft.cutoff_energy  \\\n",
       "0           True             1250.0   \n",
       "1           True             1300.0   \n",
       "\n",
       "                                               files  jarvis.bandgap.mbj  \\\n",
       "0  [{'data_type': 'ASCII text, with very long lin...                 NaN   \n",
       "1  [{'data_type': 'ASCII text, with very long lin...              8.4333   \n",
       "\n",
       "   jarvis.bandgap.optb88vdw jarvis.crossreference.materials_project  \\\n",
       "0                    1.6537                               mp-558988   \n",
       "1                    5.9415                               mp-558990   \n",
       "\n",
       "  jarvis.dimensionality  jarvis.elastic_moduli.bulk     ...       \\\n",
       "0                    3d                         NaN     ...        \n",
       "1                    3d                      30.933     ...        \n",
       "\n",
       "   material.elements              mdf.ingest_date mdf.resource_type  \\\n",
       "0         [F, N, Ni]  2018-11-28T16:20:48.748879Z            record   \n",
       "1      [K, O, P, Sr]  2018-11-28T16:20:48.748879Z            record   \n",
       "\n",
       "  mdf.scroll_id  mdf.source_id mdf.source_name mdf.version  \\\n",
       "0          3554    jarvis_v1.1          jarvis           1   \n",
       "1          3555    jarvis_v1.1          jarvis           1   \n",
       "\n",
       "         origin.creator origin.name  origin.type  \n",
       "0  University of Vienna        VASP  computation  \n",
       "1  University of Vienna        VASP  computation  \n",
       "\n",
       "[2 rows x 26 columns]"
      ]
     },
     "execution_count": 17,
     "metadata": {},
     "output_type": "execute_result"
    }
   ],
   "source": [
    "data.head(2)"
   ]
  },
  {
   "cell_type": "code",
   "execution_count": 19,
   "metadata": {},
   "outputs": [
    {
     "data": {
      "text/plain": [
       "Index(['crystal_structure.number_of_atoms',\n",
       "       'crystal_structure.space_group_number', 'dft.converged',\n",
       "       'dft.cutoff_energy', 'files', 'jarvis.bandgap.mbj',\n",
       "       'jarvis.bandgap.optb88vdw', 'jarvis.crossreference.materials_project',\n",
       "       'jarvis.dimensionality', 'jarvis.elastic_moduli.bulk',\n",
       "       'jarvis.elastic_moduli.shear', 'jarvis.formation_enthalpy', 'jarvis.id',\n",
       "       'jarvis.landing_page', 'jarvis.total_energy', 'material.composition',\n",
       "       'material.elements', 'mdf.ingest_date', 'mdf.resource_type',\n",
       "       'mdf.scroll_id', 'mdf.source_id', 'mdf.source_name', 'mdf.version',\n",
       "       'origin.creator', 'origin.name', 'origin.type'],\n",
       "      dtype='object')"
      ]
     },
     "execution_count": 19,
     "metadata": {},
     "output_type": "execute_result"
    }
   ],
   "source": [
    "data.columns"
   ]
  },
  {
   "cell_type": "code",
   "execution_count": 20,
   "metadata": {},
   "outputs": [],
   "source": [
    "export_csv = data.to_csv (r'/home/vgf3011/vishu/matminer/dataset/JARVIS_dataset.csv', index = None, header=True)"
   ]
  },
  {
   "cell_type": "markdown",
   "metadata": {},
   "source": [
    "# OQMD"
   ]
  },
  {
   "cell_type": "code",
   "execution_count": 1,
   "metadata": {},
   "outputs": [],
   "source": [
    "from matminer.data_retrieval.retrieve_MDF import MDFDataRetrieval"
   ]
  },
  {
   "cell_type": "code",
   "execution_count": 2,
   "metadata": {},
   "outputs": [],
   "source": [
    "mdf_dr = MDFDataRetrieval(anonymous=False)"
   ]
  },
  {
   "cell_type": "code",
   "execution_count": 10,
   "metadata": {},
   "outputs": [
    {
     "name": "stderr",
     "output_type": "stream",
     "text": [
      "100%|██████████| 395349/395349 [09:26<00:00, 686.86it/s]\n"
     ]
    }
   ],
   "source": [
    "mdf_dr = mdf_dr.get_dataframe({\"source_names\": [\"oqmd\"]})"
   ]
  },
  {
   "cell_type": "code",
   "execution_count": 11,
   "metadata": {},
   "outputs": [],
   "source": [
    "export_csv = mdf_dr.to_csv (r'/home/vgf3011/vishu/matminer/dataset/OQMD_dataset_withAPI.csv', index = None, header=True)"
   ]
  },
  {
   "cell_type": "markdown",
   "metadata": {},
   "source": [
    "### restful API"
   ]
  },
  {
   "cell_type": "code",
   "execution_count": 3,
   "metadata": {},
   "outputs": [],
   "source": [
    "%matplotlib inline\n",
    "\n",
    "import numpy as np\n",
    "import pandas as pd\n",
    "import requests"
   ]
  },
  {
   "cell_type": "code",
   "execution_count": 5,
   "metadata": {},
   "outputs": [],
   "source": [
    "resp3 = requests.get(f\"http://oqmd.org/oqmdapi/formationenergy?fields=name,entry_id,icsd_id,prototype,ntypes,natoms,volume,delta_e,band_gap,stability&limit=100000\")"
   ]
  },
  {
   "cell_type": "code",
   "execution_count": 9,
   "metadata": {},
   "outputs": [],
   "source": [
    "data_1 = requests.get(f\"http://oqmd.org/oqmdapi/formationenergy?fields=name,entry_id,icsd_id,prototype,ntypes,natoms,volume,delta_e,band_gap,stability&limit=1000\")"
   ]
  },
  {
   "cell_type": "code",
   "execution_count": 17,
   "metadata": {},
   "outputs": [],
   "source": [
    "resp = requests.get(f\"http://oqmd.org/oqmdapi/formationenergy?fields=name,entry_id,icsd_id,prototype,ntypes,natoms,volume,delta_e,band_gap,stability&limit=10000\")"
   ]
  },
  {
   "cell_type": "code",
   "execution_count": null,
   "metadata": {},
   "outputs": [],
   "source": [
    "data_1.json()"
   ]
  },
  {
   "cell_type": "code",
   "execution_count": null,
   "metadata": {},
   "outputs": [],
   "source": [
    "import requests\n",
    "import json\n",
    "\n",
    "oqmd_dict = dict()\n",
    "\n",
    "discover_api = 'http://oqmd.org/oqmdapi/formationenergy?limit=50'"
   ]
  },
  {
   "cell_type": "markdown",
   "metadata": {},
   "source": [
    "# AFLOW"
   ]
  },
  {
   "cell_type": "code",
   "execution_count": 1,
   "metadata": {},
   "outputs": [],
   "source": [
    "from matminer.data_retrieval.retrieve_AFLOW import AFLOWDataRetrieval"
   ]
  },
  {
   "cell_type": "code",
   "execution_count": 2,
   "metadata": {},
   "outputs": [],
   "source": [
    "aflowdr = AFLOWDataRetrieval()"
   ]
  },
  {
   "cell_type": "code",
   "execution_count": null,
   "metadata": {},
   "outputs": [],
   "source": [
    "df = aflowdr.get_dataframe(criteria={'nspecies': {'$gt': 1}},\n",
    "                           properties=['compound','volume_atom',\n",
    "                                       'density', 'enthalpy_formation_atom', 'energy_atom', \n",
    "                                       'Egap'],\n",
    "                           files=['structure'])"
   ]
  },
  {
   "cell_type": "code",
   "execution_count": null,
   "metadata": {},
   "outputs": [],
   "source": [
    "df2 = aflowdr.get_dataframe(criteria={},properties=[],files=['structure'])"
   ]
  },
  {
   "cell_type": "code",
   "execution_count": null,
   "metadata": {},
   "outputs": [],
   "source": [
    "df = aflowdr.get_dataframe(criteria={'nspecies': {'$gt': 0}},\n",
    "                           properties=[],\n",
    "                           files=['structure'])"
   ]
  },
  {
   "cell_type": "code",
   "execution_count": 11,
   "metadata": {},
   "outputs": [],
   "source": [
    "#df2 = aflowdr.get_dataframe(\n",
    "#            criteria={'auid': 'aflow:a17a2da2f3d3953a'},\n",
    "#            properties=['density', 'enthalpy_formation_atom',\n",
    "#                        'positions_fractional'],\n",
    "#            files=['structure'])"
   ]
  },
  {
   "cell_type": "code",
   "execution_count": 9,
   "metadata": {},
   "outputs": [
    {
     "data": {
      "text/plain": [
       "<bound method NDFrame.head of                        compound  \\\n",
       "auid                              \n",
       "aflow:82c957ade5ce60c8    H16O8   \n",
       "aflow:8863a605bdd88c92     H8O8   \n",
       "aflow:a7e914f47870aefc     H8O8   \n",
       "aflow:4002d9aeee88d82c     H8O8   \n",
       "aflow:1ebb9c5acefa3972   H24O12   \n",
       "aflow:8749b86f0ca6f2ab   H24O12   \n",
       "aflow:720db8ce0329fde5   H24O12   \n",
       "aflow:dce431b6bd194dd9   H24O12   \n",
       "aflow:d9284dc88ec6cd75   H24O12   \n",
       "aflow:8904948f3600421d   H24O12   \n",
       "aflow:fd652e3546e4a6d1   H24O12   \n",
       "aflow:14dd1a1c2d29e588     H8O4   \n",
       "\n",
       "                                                                     aurl  \\\n",
       "auid                                                                        \n",
       "aflow:82c957ade5ce60c8  aflowlib.duke.edu:AFLOWDATA/ICSD_WEB/ORCI/H2O1...   \n",
       "aflow:8863a605bdd88c92  aflowlib.duke.edu:AFLOWDATA/ICSD_WEB/TET/H2O2_...   \n",
       "aflow:a7e914f47870aefc  aflowlib.duke.edu:AFLOWDATA/ICSD_WEB/TET/H2O2_...   \n",
       "aflow:4002d9aeee88d82c  aflowlib.duke.edu:AFLOWDATA/ICSD_WEB/TET/H2O2_...   \n",
       "aflow:1ebb9c5acefa3972  aflowlib.duke.edu:AFLOWDATA/ICSD_WEB/ORC/H2O1_...   \n",
       "aflow:8749b86f0ca6f2ab  aflowlib.duke.edu:AFLOWDATA/ICSD_WEB/TET/H2O1_...   \n",
       "aflow:720db8ce0329fde5  aflowlib.duke.edu:AFLOWDATA/ICSD_WEB/TRI/H2O1_...   \n",
       "aflow:dce431b6bd194dd9  aflowlib.duke.edu:AFLOWDATA/ICSD_WEB/TRI/H2O1_...   \n",
       "aflow:d9284dc88ec6cd75  aflowlib.duke.edu:AFLOWDATA/ICSD_WEB/TRI/H2O1_...   \n",
       "aflow:8904948f3600421d  aflowlib.duke.edu:AFLOWDATA/ICSD_WEB/TRI/H2O1_...   \n",
       "aflow:fd652e3546e4a6d1  aflowlib.duke.edu:AFLOWDATA/ICSD_WEB/HEX/H2O1_...   \n",
       "aflow:14dd1a1c2d29e588  aflowlib.duke.edu:AFLOWDATA/ICSD_WEB/ORCC/H2O1...   \n",
       "\n",
       "                        volume_atom  density enthalpy_formation_atom  \\\n",
       "auid                                                                   \n",
       "aflow:82c957ade5ce60c8      5.97605  1.66860                    None   \n",
       "aflow:8863a605bdd88c92      7.82406  1.80477                    None   \n",
       "aflow:a7e914f47870aefc      8.34830  1.69144                    None   \n",
       "aflow:4002d9aeee88d82c      7.94470  1.77737                    None   \n",
       "aflow:1ebb9c5acefa3972      7.48062  1.33300                    None   \n",
       "aflow:8749b86f0ca6f2ab      8.23507  1.21088                    None   \n",
       "aflow:720db8ce0329fde5      7.47042  1.33482                    None   \n",
       "aflow:dce431b6bd194dd9      7.47621  1.33378                    None   \n",
       "aflow:d9284dc88ec6cd75      7.48631  1.33198                    None   \n",
       "aflow:8904948f3600421d      7.47547  1.33392                    None   \n",
       "aflow:fd652e3546e4a6d1      9.89403  1.00785                    None   \n",
       "aflow:14dd1a1c2d29e588      9.87657  1.00963                    None   \n",
       "\n",
       "                        energy_atom    Egap  \\\n",
       "auid                                          \n",
       "aflow:82c957ade5ce60c8     -4.07171  0.1807   \n",
       "aflow:8863a605bdd88c92     -4.66660  4.0562   \n",
       "aflow:a7e914f47870aefc     -4.69437  4.4513   \n",
       "aflow:4002d9aeee88d82c     -4.66143  4.0333   \n",
       "aflow:1ebb9c5acefa3972     -4.92826  5.4622   \n",
       "aflow:8749b86f0ca6f2ab     -4.94548  5.5300   \n",
       "aflow:720db8ce0329fde5     -4.92931  5.5489   \n",
       "aflow:dce431b6bd194dd9     -4.92867  5.4500   \n",
       "aflow:d9284dc88ec6cd75     -4.92834  5.4569   \n",
       "aflow:8904948f3600421d     -4.92867  5.4494   \n",
       "aflow:fd652e3546e4a6d1     -4.96237  5.5311   \n",
       "aflow:14dd1a1c2d29e588     -4.95326  5.5151   \n",
       "\n",
       "                                                                structure  \n",
       "auid                                                                       \n",
       "aflow:82c957ade5ce60c8  [[ 1.16305754  1.92509965 -2.0018019 ] H, [-1....  \n",
       "aflow:8863a605bdd88c92  [[2.69430811 1.17459205 0.0731764 ] H, [0.6316...  \n",
       "aflow:a7e914f47870aefc  [[3.84726899 1.23834512 0.98135218] H, [0.2935...  \n",
       "aflow:4002d9aeee88d82c  [[2.90295782 1.39456652 0.07437211] H, [0.4273...  \n",
       "aflow:1ebb9c5acefa3972  [[0.55930104 7.85448717 7.45448371] H, [3.4065...  \n",
       "aflow:8749b86f0ca6f2ab  [[6.45472477 2.21826369 1.36552001] H, [0.0829...  \n",
       "aflow:720db8ce0329fde5  [[0.71778119 0.58388704 0.28063106] H, [0.3706...  \n",
       "aflow:dce431b6bd194dd9  [[0.76534233 0.55723544 0.35016612] H, [0.3047...  \n",
       "aflow:d9284dc88ec6cd75  [[0.80332264 0.3459197  3.41282989] H, [0.4291...  \n",
       "aflow:8904948f3600421d  [[0.66898315 3.3930626  7.97632462] H, [0.4079...  \n",
       "aflow:fd652e3546e4a6d1  [[2.53435739 4.38963576 1.39950081] H, [2.5213...  \n",
       "aflow:14dd1a1c2d29e588  [[ 3.44780194 -0.69191417  0.26495864] H, [1.0...  >"
      ]
     },
     "execution_count": 9,
     "metadata": {},
     "output_type": "execute_result"
    }
   ],
   "source": [
    "df.head"
   ]
  },
  {
   "cell_type": "code",
   "execution_count": null,
   "metadata": {},
   "outputs": [],
   "source": []
  },
  {
   "cell_type": "markdown",
   "metadata": {},
   "source": [
    "# TODO"
   ]
  },
  {
   "cell_type": "markdown",
   "metadata": {},
   "source": [
    "### Download OQMD(Complete Data), maybe Restful API, AFLOW, MP, JARVIS\n",
    "### Create csv files make a list of all the properties for each of the dataset\n",
    "### Learn how to convert the dataset into crystal structure attributes like in IRNET paper using Voronoi Tellesation PRB17\n",
    "### Download the github repos and run them (see if requirement.txt is enough)"
   ]
  },
  {
   "cell_type": "code",
   "execution_count": null,
   "metadata": {},
   "outputs": [],
   "source": []
  }
 ],
 "metadata": {
  "kernelspec": {
   "display_name": "Python 3",
   "language": "python",
   "name": "python3"
  },
  "language_info": {
   "codemirror_mode": {
    "name": "ipython",
    "version": 3
   },
   "file_extension": ".py",
   "mimetype": "text/x-python",
   "name": "python",
   "nbconvert_exporter": "python",
   "pygments_lexer": "ipython3",
   "version": "3.6.3"
  }
 },
 "nbformat": 4,
 "nbformat_minor": 2
}
