{
 "cells": [
  {
   "cell_type": "markdown",
   "metadata": {},
   "source": [
    "# JSON to CSV"
   ]
  },
  {
   "cell_type": "code",
   "execution_count": 7,
   "metadata": {},
   "outputs": [],
   "source": [
    "import json\n",
    "import csv\n",
    "\n",
    "with open('aflow_test.json') as f:\n",
    "  aflow_test = json.load(f)"
   ]
  },
  {
   "cell_type": "code",
   "execution_count": 9,
   "metadata": {},
   "outputs": [],
   "source": [
    "# open a file for writing\n",
    "aflow_data = open('aflow_test.csv', 'w')"
   ]
  },
  {
   "cell_type": "code",
   "execution_count": 10,
   "metadata": {},
   "outputs": [],
   "source": [
    "# create the csv writer object\n",
    "\n",
    "csvwriter = csv.writer(aflow_data)\n",
    "\n",
    "count = 0"
   ]
  },
  {
   "cell_type": "code",
   "execution_count": 11,
   "metadata": {},
   "outputs": [],
   "source": [
    "for aflow in aflow_test:\n",
    "\n",
    "      if count == 0:\n",
    "\n",
    "             header = aflow.keys()\n",
    "\n",
    "             csvwriter.writerow(header)\n",
    "\n",
    "             count += 1\n",
    "\n",
    "      csvwriter.writerow(aflow.values())\n",
    "\n",
    "aflow_data.close()"
   ]
  },
  {
   "cell_type": "markdown",
   "metadata": {},
   "source": [
    "### format"
   ]
  },
  {
   "cell_type": "code",
   "execution_count": null,
   "metadata": {},
   "outputs": [],
   "source": [
    "#employee_parsed = json.loads(employee_data)\n",
    "\n",
    "#emp_data = employee_parsed['employee_details']\n",
    "\n",
    "#employ_data = open('/tmp/EmployData.csv', 'w')\n",
    "\n",
    "#csvwriter = csv.writer(employ_data)\n",
    "\n",
    "#count = 0\n",
    "\n",
    "#for emp in emp_data:\n",
    "\n",
    "#      if count == 0:\n",
    "\n",
    "#             header = emp.keys()\n",
    "\n",
    "#             csvwriter.writerow(header)\n",
    "\n",
    "#             count += 1\n",
    "\n",
    "#      csvwriter.writerow(emp.values())\n",
    "\n",
    "#employ_data.close()"
   ]
  }
 ],
 "metadata": {
  "kernelspec": {
   "display_name": "Python 3",
   "language": "python",
   "name": "python3"
  },
  "language_info": {
   "codemirror_mode": {
    "name": "ipython",
    "version": 3
   },
   "file_extension": ".py",
   "mimetype": "text/x-python",
   "name": "python",
   "nbconvert_exporter": "python",
   "pygments_lexer": "ipython3",
   "version": "3.6.3"
  }
 },
 "nbformat": 4,
 "nbformat_minor": 2
}
