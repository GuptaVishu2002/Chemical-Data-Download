{
 "cells": [
  {
   "cell_type": "markdown",
   "metadata": {},
   "source": [
    "# Restful API"
   ]
  },
  {
   "cell_type": "markdown",
   "metadata": {},
   "source": [
    "## OQMD "
   ]
  },
  {
   "cell_type": "code",
   "execution_count": 1,
   "metadata": {},
   "outputs": [],
   "source": [
    "import requests\n",
    "import json\n",
    "\n",
    "oqmd_dict = dict()"
   ]
  },
  {
   "cell_type": "code",
   "execution_count": 2,
   "metadata": {},
   "outputs": [],
   "source": [
    "discover_api = requests.get('http://oqmd.org/oqmdapi/formationenergy?limit=50').json()"
   ]
  },
  {
   "cell_type": "code",
   "execution_count": 3,
   "metadata": {},
   "outputs": [],
   "source": [
    "link = discover_api[\"links\"]"
   ]
  },
  {
   "cell_type": "code",
   "execution_count": 4,
   "metadata": {},
   "outputs": [],
   "source": [
    "oqmd_dict[1] = discover_api[\"data\"]"
   ]
  },
  {
   "cell_type": "code",
   "execution_count": 5,
   "metadata": {},
   "outputs": [],
   "source": [
    "oqmd_dict1 = dict()\n",
    "oqmd_dict2 = dict()\n",
    "oqmd_dict3= dict()\n",
    "oqmd_dict4= dict()"
   ]
  },
  {
   "cell_type": "code",
   "execution_count": null,
   "metadata": {},
   "outputs": [],
   "source": [
    "for x in range(2, 12754):\n",
    "    discover_api = requests.get(link[\"next\"]).json()\n",
    "    oqmd_dict[x] = discover_api[\"data\"]\n",
    "    link = discover_api[\"links\"]"
   ]
  },
  {
   "cell_type": "code",
   "execution_count": null,
   "metadata": {},
   "outputs": [],
   "source": [
    "json = json.dumps(oqmd_dict)\n",
    "f = open(\"dict.json\",\"w\")\n",
    "f.write(json)\n",
    "f.close()"
   ]
  },
  {
   "cell_type": "markdown",
   "metadata": {},
   "source": [
    "## AFLOW"
   ]
  },
  {
   "cell_type": "code",
   "execution_count": 1,
   "metadata": {},
   "outputs": [],
   "source": [
    "import requests\n",
    "import json\n",
    "\n",
    "aflow_dict = dict()"
   ]
  },
  {
   "cell_type": "code",
   "execution_count": 27,
   "metadata": {},
   "outputs": [],
   "source": [
    "aflow_api = requests.get('http://aflowlib.duke.edu/search/API/?Egap(1*,*1.02),Bravais_lattice_orig,Bravais_lattice_relax,Egap(1*,*1.02),Egap_fit,Egap_type,PV_atom,PV_cell,Pearson_symbol_orig,Pearson_symbol_relax,ael_bulk_modulus_reuss,ael_bulk_modulus_voigt,ael_bulk_modulus_vrh,ael_elastic_anisotropy,ael_poisson_ratio,ael_shear_modulus_reuss,ael_shear_modulus_voigt,ael_shear_modulus_vrh,agl_acoustic_debye,agl_bulk_modulus_isothermal_300K,agl_bulk_modulus_static_300K,agl_debye,agl_gruneisen,agl_heat_capacity_Cp_300K,agl_heat_capacity_Cv_300K,agl_thermal_conductivity_300K,agl_thermal_expansion_300K,auid,bader_atomic_volumes,bader_net_charges,composition,compound,delta_electronic_energy_convergence,delta_electronic_energy_threshold,density,dft_type,eentropy_atom,eentropy_cell,energy_atom,energy_cell,energy_cutoff,enthalpy_atom,enthalpy_cell,enthalpy_formation_atom,enthalpy_formation_cell,entropic_temperature,forces,geometry,kpoints,lattice_system_orig,lattice_system_relax,lattice_variation_orig,lattice_variation_relax,ldau_TLUJ,loop,natoms,nbondxx,nspecies,positions_cartesian,positions_fractional,pressure,pressure_residual,prototype,scintillation_attenuation_length,sg,sg2,spacegroup_orig,spacegroup_relax,species,species_pp,species_pp_ZVAL,species_pp_version,spinD,spinF,spin_atom,spin_cell,stoich,stoichiometry,stress_tensor,valence_cell_iupac,valence_cell_std,volume_atom,volume_cell,$paging(0)').json()"
   ]
  },
  {
   "cell_type": "code",
   "execution_count": 3,
   "metadata": {},
   "outputs": [],
   "source": [
    "json = json.dumps(aflow_api)\n",
    "f = open(\"aflow_test2.json\",\"w\")\n",
    "f.write(json)\n",
    "f.close()"
   ]
  }
 ],
 "metadata": {
  "kernelspec": {
   "display_name": "Python 3",
   "language": "python",
   "name": "python3"
  },
  "language_info": {
   "codemirror_mode": {
    "name": "ipython",
    "version": 3
   },
   "file_extension": ".py",
   "mimetype": "text/x-python",
   "name": "python",
   "nbconvert_exporter": "python",
   "pygments_lexer": "ipython3",
   "version": "3.6.3"
  }
 },
 "nbformat": 4,
 "nbformat_minor": 2
}
